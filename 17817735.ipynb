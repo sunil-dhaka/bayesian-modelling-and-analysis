{
 "cells": [
  {
   "cell_type": "markdown",
   "metadata": {},
   "source": [
    "# Que-1\n",
    "- In answering this quiz I have neither taken help from anyone nor helped anyone.  "
   ]
  },
  {
   "cell_type": "markdown",
   "metadata": {},
   "source": [
    "# Que-2"
   ]
  },
  {
   "cell_type": "markdown",
   "metadata": {},
   "source": [
    "## Part-(a)\n",
    "In bayesian approach we treat parameters as random variables and in frequentist as fixed. Consequently, Bayesian approach gives us a full posterior distribution of parameter and freuentist in which there gives only point estimate of the parameter. When we study uncertainity in parameter we are better off with bayesian because we have whole distribution of the r.v. parameter. In bayesian approach we also condier prior information about parameters that we have but in frequentist approach we don't consider any prior info that we might have. \n",
    "\n",
    "## Part-(b)\n",
    "95% HDI means that it is the shortest interval that contains 95% of the probability mass. It gives central interval of highest probability. It is unique statistics. On the other hand 95% CI means any interval that has 95% area covered under probability distribution. It is not unqiue statistics.\n",
    "\n",
    "## Part-(c)\n",
    "We can consider MAtropolish and Gibbs algo with multiple runs and then use avg samples from these runs. We also can run algos multiple times with different starting points. With good proposal dist we have better change of collecting effective samples of target dist.  "
   ]
  },
  {
   "cell_type": "markdown",
   "metadata": {},
   "source": [
    "# Que-3"
   ]
  },
  {
   "cell_type": "markdown",
   "metadata": {},
   "source": [
    "**Part-(a)**"
   ]
  },
  {
   "cell_type": "code",
   "execution_count": 2,
   "metadata": {},
   "outputs": [],
   "source": [
    "import numpy as np\n",
    "import matplotlib.pyplot as plt\n",
    "from scipy.stats import beta"
   ]
  },
  {
   "cell_type": "markdown",
   "metadata": {},
   "source": [
    "We can prove it:\n",
    "$$E[X]=\\int_{0}^{1} x f(x) dx$$\n",
    "$$=\\int_{0}^{1} x \\frac{x^{\\alpha-1}(1-x)^{\\beta-1}}{B(\\alpha,\\beta)}$$\n",
    "$$=\\frac{B(\\alpha,\\beta)}{B(\\alpha,\\beta)}\\int_{0}^{1} \\frac{x^{(\\alpha+1)-1}(1-x)^{\\beta-1}}{B((\\alpha+1),\\beta)}$$\n",
    "Expand beta functions and use properties of gamma functions:\n",
    "$$= \\frac{\\Gamma(\\alpha+\\beta)\\Gamma(\\alpha+1)}{\\Gamma(\\alpha+\\beta+1)\\Gamma(\\alpha)}$$\n",
    "$$=\\frac{\\alpha}{\\alpha+\\beta}$$\n",
    "\n",
    "- So Beta mean is given as:\n",
    "$$ E[X]=\\frac{\\alpha}{\\alpha+\\beta} $$"
   ]
  },
  {
   "cell_type": "code",
   "execution_count": 4,
   "metadata": {},
   "outputs": [],
   "source": [
    "beta_mean=2/(2+5)\n",
    "# it is shown as a vertical line"
   ]
  },
  {
   "cell_type": "code",
   "execution_count": 5,
   "metadata": {},
   "outputs": [
    {
     "data": {
      "text/plain": [
       "<matplotlib.lines.Line2D at 0x7fbd2b0a1af0>"
      ]
     },
     "execution_count": 5,
     "metadata": {},
     "output_type": "execute_result"
    },
    {
     "data": {
      "image/png": "[encoded data removed]",
      "text/plain": [
       "<Figure size 432x288 with 1 Axes>"
      ]
     },
     "metadata": {
      "needs_background": "light"
     },
     "output_type": "display_data"
    }
   ],
   "source": [
    "x = np.linspace(0, 1.0, 100)\n",
    "y = beta.pdf(x, 2, 5)\n",
    "plt.plot(x, y, \"r--\")\n",
    "plt.axvline(x=beta_mean,c='m')"
   ]
  },
  {
   "cell_type": "markdown",
   "metadata": {},
   "source": [
    "**Part-(b)**"
   ]
  },
  {
   "cell_type": "markdown",
   "metadata": {},
   "source": [
    "No of heads = 3 and total tosses = 10.\n",
    "That means $\\sum_{n=1}^{10}=3$ and N = 10.\\\n",
    "bernoulli ditribution:\n",
    "$$p(y_n|\\theta)=\\theta^{y_n}(1-\\theta)^{1-y_n}$$\n",
    "As all tosses are iid so we can write likelihood as:\n",
    "$$ L(\\theta|data)=\\prod_{n=1}^{10} p(y_n|\\theta)$$\n",
    "SimpLyfy:\n",
    "$$L(\\theta|data)=\\prod_{n=1}^{10} \\theta^{y_n}(1-\\theta)^{1-y_n}$$\n",
    "$$=\\theta^{\\sum_{n=1}^{10} y_n}(1-\\theta)^{10-\\sum_{n=1}^{10} y_n} $$\n",
    "Or we can write it in log form by taking log on both sides:\n",
    "$$l(\\theta|data)=\\sum_{n=1}^{10}[y_n log \\theta+(1-y_n)log (1-\\theta)] $$\n",
    "\n",
    "SOLVE for MLE:\n",
    "We can differentiate above log-lik. to get MLE solution,\n",
    "$$\\frac{dl}{d\\theta}=\\frac{\\sum_{n=1}^{10} y_n}{\\theta}-\\frac{\\sum_{n=1}^{10}(1-y_n)}{1-\\theta}$$\n",
    "Set above to zero and we get,\n",
    "$$\\theta_{MLE}=\\frac{\\sum_{n=1}^{10}y_n}{10}$$\n",
    "\n",
    "To check second order condition:\n",
    "$$ \\frac{d^{2}l}{d\\theta^{2}}= -\\frac{\\sum_{n=1}^{10} y_n}{\\theta^{2}}+\\frac{\\sum_{n=1}^{10}(1-y_n)}{(1-\\theta)^{2}}$$\n",
    "Put mle value and we get,\n",
    "$$\\frac{d^{2}l}{d\\theta^{2}} < 0 $$\n",
    "this solution is indeed maxima. So,\n",
    "$$\\theta_{MLE}=\\frac{\\sum_{n=1}^{10}y_n}{10}=\\frac{3}{10}=0.3$$"
   ]
  },
  {
   "cell_type": "markdown",
   "metadata": {},
   "source": [
    "**Part-(c)**"
   ]
  },
  {
   "cell_type": "code",
   "execution_count": 6,
   "metadata": {},
   "outputs": [],
   "source": [
    "import arviz as az\n",
    "import matplotlib.pyplot as plt\n",
    "import numpy as np\n",
    "import pandas as pd\n",
    "import pymc3 as pm\n",
    "import scipy.stats as st\n",
    "import seaborn as sns"
   ]
  },
  {
   "cell_type": "markdown",
   "metadata": {},
   "source": [
    "$$post \\propto \\theta^{\\sum_{n=1}^{10} y_n}(1-\\theta)^{10-\\sum_{n=1}^{10} y_n} \\theta^{\\alpha-1}(1-\\theta)^{\\beta-1}$$\n",
    "$$post \\propto \\theta^{\\sum_{n=1}^{10} + \\alpha-1}(1-\\theta)^{(10-\\sum_{n=1}^{10} y_n + \\beta)-1}$$\n",
    "MAP can be calculated by differ. above objective function. Excat similar cal. are for MAP, as we did for MLE and we get,\n",
    "$$\\theta_{MAP}=\\frac{\\alpha + \\sum_{n=1}^{10} y_n -1 }{\\alpha + \\beta+8}$$"
   ]
  },
  {
   "cell_type": "code",
   "execution_count": 14,
   "metadata": {},
   "outputs": [
    {
     "data": {
      "text/plain": [
       "<matplotlib.legend.Legend at 0x7fbd2004d580>"
      ]
     },
     "execution_count": 14,
     "metadata": {},
     "output_type": "execute_result"
    },
    {
     "data": {
      "image/png": "[encoded data removed]",
      "text/plain": [
       "<Figure size 432x288 with 1 Axes>"
      ]
     },
     "metadata": {
      "needs_background": "light"
     },
     "output_type": "display_data"
    }
   ],
   "source": [
    "x = np.linspace(0, 1.0, 100)\n",
    "y = beta.pdf(x, 5, 12)\n",
    "plt.plot(x, y, \"r--\",label='post')\n",
    "plt.legend()"
   ]
  },
  {
   "cell_type": "code",
   "execution_count": 21,
   "metadata": {},
   "outputs": [],
   "source": [
    "def target(lik, prior, n, h, theta):\n",
    "    if theta < 0 or theta > 1:\n",
    "        return 0\n",
    "    else:\n",
    "        return lik(n, theta).pmf(h)*prior.pdf(theta)\n",
    "\n",
    "n = 10\n",
    "h = 3\n",
    "a = 2\n",
    "b = 5\n",
    "lik = st.binom\n",
    "prior = st.beta(a, b)\n",
    "sigma = 0.3\n",
    "\n",
    "naccept = 0\n",
    "theta = 0.1\n",
    "niters = 10000\n",
    "samples = np.zeros(niters+1)\n",
    "samples[0] = theta\n",
    "for i in range(niters):\n",
    "    theta_p = theta + st.norm(0, sigma).rvs()\n",
    "    rho = min(1, target(lik, prior, n, h, theta_p)/target(lik, prior, n, h, theta ))\n",
    "    u = np.random.uniform()\n",
    "    if u < rho:\n",
    "        naccept += 1\n",
    "        theta = theta_p\n",
    "    samples[i+1] = theta"
   ]
  },
  {
   "cell_type": "code",
   "execution_count": 22,
   "metadata": {},
   "outputs": [
    {
     "name": "stderr",
     "output_type": "stream",
     "text": [
      "/tmp/ipykernel_46562/2111944006.py:1: DeprecationWarning: The function `traceplot` from PyMC3 is just an alias for `plot_trace` from ArviZ. Please switch to `pymc3.plot_trace` or `arviz.plot_trace`.\n",
      "  pm.traceplot(samples)\n"
     ]
    },
    {
     "data": {
      "text/plain": [
       "array([[<AxesSubplot:title={'center':'x'}>,\n",
       "        <AxesSubplot:title={'center':'x'}>]], dtype=object)"
      ]
     },
     "execution_count": 22,
     "metadata": {},
     "output_type": "execute_result"
    },
    {
     "data": {
      "image/png": "[encoded data removed]",
      "text/plain": [
       "<Figure size 864x144 with 2 Axes>"
      ]
     },
     "metadata": {
      "needs_background": "light"
     },
     "output_type": "display_data"
    }
   ],
   "source": [
    "pm.traceplot(samples)"
   ]
  },
  {
   "cell_type": "code",
   "execution_count": 23,
   "metadata": {},
   "outputs": [
    {
     "data": {
      "text/plain": [
       "0.2956660333312629"
      ]
     },
     "execution_count": 23,
     "metadata": {},
     "output_type": "execute_result"
    }
   ],
   "source": [
    "# trace MAP\n",
    "np.mean(samples)"
   ]
  },
  {
   "cell_type": "markdown",
   "metadata": {},
   "source": [
    "**Part-(d)**"
   ]
  },
  {
   "cell_type": "markdown",
   "metadata": {},
   "source": [
    "Full posterior can be computated as,\n",
    "$$post = \\frac{\\frac{\\theta^{\\sum_{n=1}^{10} + \\alpha-1}(1-\\theta)^{(10-\\sum_{n=1}^{10} y_n + \\beta)-1}}{B(\\alpha,\\beta)}}{\\int\\frac{\\theta^{\\sum_{n=1}^{10} + \\alpha-1}(1-\\theta)^{(10-\\sum_{n=1}^{10} y_n + \\beta)-1}}{B(\\alpha,\\beta)}}$$\n",
    "OR,\n",
    "$$post = \\frac{\\theta^{\\sum_{n=1}^{10} + \\alpha-1}(1-\\theta)^{(10-\\sum_{n=1}^{10} y_n + \\beta)-1}}{\\int\\theta^{\\sum_{n=1}^{10} + \\alpha-1}(1-\\theta)^{(10-\\sum_{n=1}^{10} y_n + \\beta)-1}}$$\n",
    "By multiplying appropriate Beta func we get post to be a beta distribution with,\n",
    "$$\\alpha_0=\\alpha + \\sum_{n=1}^{10} y_n=2+3=5$$\n",
    "$$\\beta_0=\\beta+10-\\sum_{n=1}^{10} y_n=5+7=12$$"
   ]
  },
  {
   "cell_type": "code",
   "execution_count": 11,
   "metadata": {},
   "outputs": [
    {
     "data": {
      "text/plain": [
       "<matplotlib.legend.Legend at 0x7fbd2004dca0>"
      ]
     },
     "execution_count": 11,
     "metadata": {},
     "output_type": "execute_result"
    },
    {
     "data": {
      "image/png": "[encoded data removed]",
      "text/plain": [
       "<Figure size 432x288 with 1 Axes>"
      ]
     },
     "metadata": {
      "needs_background": "light"
     },
     "output_type": "display_data"
    }
   ],
   "source": [
    "theta_map=4/15\n",
    "theta_mle=3/10\n",
    "x = np.linspace(0, 1.0, 100)\n",
    "y = beta.pdf(x, 5, 12)\n",
    "plt.plot(x, y, \"r--\",label='post')\n",
    "plt.axvline(x=theta_map,c='m',label='MAP')\n",
    "plt.axvline(x=theta_mle,c='y',label='MLE')\n",
    "plt.legend()"
   ]
  }
 ],
 "metadata": {
  "interpreter": {
   "hash": "365d70965140afb04a698773bfdd31483bc82432b779112c2a78b5de7c16d125"
  },
  "kernelspec": {
   "display_name": "Python 3.8.5 ('base')",
   "language": "python",
   "name": "python3"
  },
  "language_info": {
   "codemirror_mode": {
    "name": "ipython",
    "version": 3
   },
   "file_extension": ".py",
   "mimetype": "text/x-python",
   "name": "python",
   "nbconvert_exporter": "python",
   "pygments_lexer": "ipython3",
   "version": "3.8.5"
  },
  "orig_nbformat": 4
 },
 "nbformat": 4,
 "nbformat_minor": 2
}
